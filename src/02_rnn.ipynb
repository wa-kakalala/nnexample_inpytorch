{
 "cells": [
  {
   "cell_type": "markdown",
   "id": "a44377a9-45df-4d5a-bfdf-6261a7789b92",
   "metadata": {},
   "source": [
    "# 循环神经网络(Recurrent Neural Network, RNN)"
   ]
  },
  {
   "cell_type": "markdown",
   "id": "b51742ed-7448-404a-91da-61f5c6ea74c5",
   "metadata": {},
   "source": [
    "## RNN手写字体分类"
   ]
  },
  {
   "cell_type": "markdown",
   "id": "6714ca27-d7d9-40f6-b6d7-9c07a9af4703",
   "metadata": {},
   "source": [
    "### 导入相关库"
   ]
  },
  {
   "cell_type": "markdown",
   "id": "9ddbd525-66f7-4d5d-adb8-fe07f2707062",
   "metadata": {},
   "source": [
    "### 数据集"
   ]
  },
  {
   "cell_type": "markdown",
   "id": "fd10b4b6-634e-4b1c-acf9-712b61a076a3",
   "metadata": {},
   "source": [
    "### code"
   ]
  },
  {
   "cell_type": "code",
   "execution_count": null,
   "id": "1e449941-e715-4bf5-86c3-57df7705c37b",
   "metadata": {},
   "outputs": [],
   "source": []
  }
 ],
 "metadata": {
  "kernelspec": {
   "display_name": "Python 3 (ipykernel)",
   "language": "python",
   "name": "python3"
  },
  "language_info": {
   "codemirror_mode": {
    "name": "ipython",
    "version": 3
   },
   "file_extension": ".py",
   "mimetype": "text/x-python",
   "name": "python",
   "nbconvert_exporter": "python",
   "pygments_lexer": "ipython3",
   "version": "3.10.10"
  }
 },
 "nbformat": 4,
 "nbformat_minor": 5
}
