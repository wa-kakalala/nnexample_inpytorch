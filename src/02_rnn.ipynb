{
 "cells": [
  {
   "cell_type": "markdown",
   "id": "a44377a9-45df-4d5a-bfdf-6261a7789b92",
   "metadata": {},
   "source": [
    "# 循环神经网络(Recurrent Neural Network, RNN)"
   ]
  },
  {
   "cell_type": "markdown",
   "id": "b51742ed-7448-404a-91da-61f5c6ea74c5",
   "metadata": {},
   "source": [
    "## RNN手写字体分类"
   ]
  },
  {
   "cell_type": "markdown",
   "id": "6714ca27-d7d9-40f6-b6d7-9c07a9af4703",
   "metadata": {},
   "source": [
    "### 导入相关库"
   ]
  },
  {
   "cell_type": "code",
   "execution_count": 1,
   "id": "a7c82ef9-af0f-4aeb-a6b7-bf57bd6ed01e",
   "metadata": {},
   "outputs": [],
   "source": [
    "import numpy as np\n",
    "import pandas as pd\n",
    "import matplotlib.pyplot as plt\n",
    "import time\n",
    "import copy\n",
    "import torch\n",
    "from torch import nn\n",
    "import torch.nn.functional as F\n",
    "import torch.optim as optim\n",
    "import torchvision \n",
    "import torch.utils.data as Data\n",
    "from torchvision import transforms\n",
    "import hiddenlayer as hl"
   ]
  },
  {
   "cell_type": "markdown",
   "id": "9ddbd525-66f7-4d5d-adb8-fe07f2707062",
   "metadata": {},
   "source": [
    "### 数据集"
   ]
  },
  {
   "cell_type": "markdown",
   "id": "89a418de-a944-4b77-8abd-a57a1f9c911f",
   "metadata": {},
   "source": [
    "MNIST数据集由0~9的数字图像构成，训练图像有6万张，测试图像有1万张。  \n",
    "单张图像为灰度图像，尺寸为: 28x28。"
   ]
  },
  {
   "cell_type": "markdown",
   "id": "fd10b4b6-634e-4b1c-acf9-712b61a076a3",
   "metadata": {},
   "source": [
    "### code"
   ]
  },
  {
   "cell_type": "code",
   "execution_count": 2,
   "id": "1e449941-e715-4bf5-86c3-57df7705c37b",
   "metadata": {},
   "outputs": [
    {
     "name": "stdout",
     "output_type": "stream",
     "text": [
      "Downloading http://yann.lecun.com/exdb/mnist/train-images-idx3-ubyte.gz\n",
      "Failed to download (trying next):\n",
      "HTTP Error 403: Forbidden\n",
      "\n",
      "Downloading https://ossci-datasets.s3.amazonaws.com/mnist/train-images-idx3-ubyte.gz\n",
      "Downloading https://ossci-datasets.s3.amazonaws.com/mnist/train-images-idx3-ubyte.gz to ../data/MNIST\\MNIST\\raw\\train-images-idx3-ubyte.gz\n"
     ]
    },
    {
     "name": "stderr",
     "output_type": "stream",
     "text": [
      "100%|█████████████████████████████████████████████████████████████████████████████| 9.91M/9.91M [00:03<00:00, 2.83MB/s]\n"
     ]
    },
    {
     "name": "stdout",
     "output_type": "stream",
     "text": [
      "Extracting ../data/MNIST\\MNIST\\raw\\train-images-idx3-ubyte.gz to ../data/MNIST\\MNIST\\raw\n",
      "\n",
      "Downloading http://yann.lecun.com/exdb/mnist/train-labels-idx1-ubyte.gz\n",
      "Failed to download (trying next):\n",
      "HTTP Error 403: Forbidden\n",
      "\n",
      "Downloading https://ossci-datasets.s3.amazonaws.com/mnist/train-labels-idx1-ubyte.gz\n",
      "Downloading https://ossci-datasets.s3.amazonaws.com/mnist/train-labels-idx1-ubyte.gz to ../data/MNIST\\MNIST\\raw\\train-labels-idx1-ubyte.gz\n"
     ]
    },
    {
     "name": "stderr",
     "output_type": "stream",
     "text": [
      "100%|██████████████████████████████████████████████████████████████████████████████| 28.9k/28.9k [00:00<00:00, 104kB/s]\n"
     ]
    },
    {
     "name": "stdout",
     "output_type": "stream",
     "text": [
      "Extracting ../data/MNIST\\MNIST\\raw\\train-labels-idx1-ubyte.gz to ../data/MNIST\\MNIST\\raw\n",
      "\n",
      "Downloading http://yann.lecun.com/exdb/mnist/t10k-images-idx3-ubyte.gz\n",
      "Failed to download (trying next):\n",
      "HTTP Error 403: Forbidden\n",
      "\n",
      "Downloading https://ossci-datasets.s3.amazonaws.com/mnist/t10k-images-idx3-ubyte.gz\n",
      "Downloading https://ossci-datasets.s3.amazonaws.com/mnist/t10k-images-idx3-ubyte.gz to ../data/MNIST\\MNIST\\raw\\t10k-images-idx3-ubyte.gz\n"
     ]
    },
    {
     "name": "stderr",
     "output_type": "stream",
     "text": [
      "100%|██████████████████████████████████████████████████████████████████████████████| 1.65M/1.65M [00:02<00:00, 571kB/s]\n"
     ]
    },
    {
     "name": "stdout",
     "output_type": "stream",
     "text": [
      "Extracting ../data/MNIST\\MNIST\\raw\\t10k-images-idx3-ubyte.gz to ../data/MNIST\\MNIST\\raw\n",
      "\n",
      "Downloading http://yann.lecun.com/exdb/mnist/t10k-labels-idx1-ubyte.gz\n",
      "Failed to download (trying next):\n",
      "HTTP Error 403: Forbidden\n",
      "\n",
      "Downloading https://ossci-datasets.s3.amazonaws.com/mnist/t10k-labels-idx1-ubyte.gz\n",
      "Downloading https://ossci-datasets.s3.amazonaws.com/mnist/t10k-labels-idx1-ubyte.gz to ../data/MNIST\\MNIST\\raw\\t10k-labels-idx1-ubyte.gz\n"
     ]
    },
    {
     "name": "stderr",
     "output_type": "stream",
     "text": [
      "100%|█████████████████████████████████████████████████████████████████████████████| 4.54k/4.54k [00:00<00:00, 1.52MB/s]\n"
     ]
    },
    {
     "name": "stdout",
     "output_type": "stream",
     "text": [
      "Extracting ../data/MNIST\\MNIST\\raw\\t10k-labels-idx1-ubyte.gz to ../data/MNIST\\MNIST\\raw\n",
      "\n"
     ]
    }
   ],
   "source": [
    "# 训练数据集\n",
    "train_data = torchvision.datasets.MNIST(\n",
    "    root = \"../data/MNIST\",\n",
    "    train = True,\n",
    "    transform = transforms.ToTensor(),\n",
    "    download = True\n",
    ")\n",
    "# 定义数据加载器\n",
    "train_loader = Data.DataLoader(\n",
    "    dataset = train_data, \n",
    "    batch_size = 64,\n",
    "    shuffle = True, \n",
    "    num_workers = 2\n",
    ")\n",
    "# 准备需要的测试数据集\n",
    "test_data = torchvision.datasets.MNIST(\n",
    "    root = \"../data/MNIST\",\n",
    "    train = False, \n",
    "    transform = transforms.ToTensor(),\n",
    "    download = False\n",
    ")\n",
    "\n",
    "test_loader = Data.DataLoader(\n",
    "    dataset = test_data,\n",
    "    batch_size = 64,\n",
    "    shuffle = True,\n",
    "    num_workers = 2\n",
    ")"
   ]
  },
  {
   "cell_type": "code",
   "execution_count": 3,
   "id": "64dedf65-8e0d-4196-845d-b2efdb2b0bed",
   "metadata": {},
   "outputs": [],
   "source": [
    "class RNNimc( nn.Module ):\n",
    "    def __init__ (self,input_dim, hidden_dim,layer_dim, output_dim):\n",
    "        \"\"\"\n",
    "            input_dim: 输入数据的维度（图片每行的数据像素点\n",
    "            hidden_dim : RNN神经元个数\n",
    "            layer_dim: RNN的层数\n",
    "            output_dim: 隐藏层输出的维度（分类的数量\n",
    "        \"\"\"\n",
    "        super(RNNimc,self).__init__()\n",
    "        self.hidden_dim = hidden_dim # RNN神经元个数\n",
    "        self.layer_dim = layer_dim # RNN的层数\n",
    "        # RNN\n",
    "        self.rnn = nn.RNN(input_dim, hidden_dim, layer_dim, batch_first=True, nonlinearity='relu')\n",
    "        # 连接全连接层\n",
    "        self.fc1 = nn.Linear(hidden_dim,output_dim)\n",
    "    def forward(self,x):\n",
    "        # x:[batch,time_step,input_dim]\n",
    "        # time_step = 图像所有像素数量/input_dim\n",
    "        # out: [bacth, time_step, output_size]\n",
    "        # h_n:[layer_dim, batch,hidden_dim]\n",
    "        # None表示h0会使用全0进行初始化\n",
    "        out,h_n = self.rnn(x,None)\n",
    "        # 选取最后一个时间点的out输出\n",
    "        out = self.fc1(out[:,-1,:])\n",
    "        return out"
   ]
  },
  {
   "cell_type": "code",
   "execution_count": 5,
   "id": "8e764676-db85-4461-a444-d11e10f430fc",
   "metadata": {},
   "outputs": [
    {
     "name": "stdout",
     "output_type": "stream",
     "text": [
      "RNNimc(\n",
      "  (rnn): RNN(28, 128, batch_first=True)\n",
      "  (fc1): Linear(in_features=128, out_features=10, bias=True)\n",
      ")\n"
     ]
    }
   ],
   "source": [
    "# 模型调用\n",
    "input_dim = 28 # 图片每行的像素数量\n",
    "hidden_dim = 128 # RNN神经元个数\n",
    "layer_dim = 1 # RNN的层数\n",
    "output_dim = 10 # 隐藏层输出的维度(10类图像)\n",
    "MyRNNimc = RNNimc(input_dim, hidden_dim, layer_dim, output_dim)\n",
    "print( MyRNNimc )"
   ]
  },
  {
   "cell_type": "code",
   "execution_count": 7,
   "id": "68756612-b298-4894-9640-99da89546bcd",
   "metadata": {},
   "outputs": [
    {
     "name": "stdout",
     "output_type": "stream",
     "text": [
      "Epoch 0/29\n",
      "0 Train Loss: 0.0003 Train Acc: 0.6851\n",
      "0 Train Loss: 0.0019 Train Acc: 0.8045\n",
      "Epoch 1/29\n",
      "1 Train Loss: 0.0003 Train Acc: 0.8188\n",
      "1 Train Loss: 0.0008 Train Acc: 0.8615\n",
      "Epoch 2/29\n",
      "2 Train Loss: 0.0002 Train Acc: 0.8717\n",
      "2 Train Loss: 0.0006 Train Acc: 0.8858\n",
      "Epoch 3/29\n",
      "3 Train Loss: 0.0002 Train Acc: 0.9061\n",
      "3 Train Loss: 0.0008 Train Acc: 0.8680\n",
      "Epoch 4/29\n",
      "4 Train Loss: 0.0001 Train Acc: 0.9283\n",
      "4 Train Loss: 0.0006 Train Acc: 0.9322\n",
      "Epoch 5/29\n",
      "5 Train Loss: 0.0001 Train Acc: 0.9411\n",
      "5 Train Loss: 0.0005 Train Acc: 0.9391\n",
      "Epoch 6/29\n",
      "6 Train Loss: 0.0000 Train Acc: 0.9482\n",
      "6 Train Loss: 0.0000 Train Acc: 0.9584\n",
      "Epoch 7/29\n",
      "7 Train Loss: 0.0000 Train Acc: 0.9539\n",
      "7 Train Loss: 0.0006 Train Acc: 0.9559\n",
      "Epoch 8/29\n",
      "8 Train Loss: 0.0000 Train Acc: 0.9590\n",
      "8 Train Loss: 0.0000 Train Acc: 0.9601\n",
      "Epoch 9/29\n",
      "9 Train Loss: 0.0000 Train Acc: 0.9615\n",
      "9 Train Loss: 0.0006 Train Acc: 0.9640\n",
      "Epoch 10/29\n",
      "10 Train Loss: 0.0000 Train Acc: 0.9643\n",
      "10 Train Loss: 0.0001 Train Acc: 0.9639\n",
      "Epoch 11/29\n",
      "11 Train Loss: 0.0001 Train Acc: 0.9677\n",
      "11 Train Loss: 0.0001 Train Acc: 0.9673\n",
      "Epoch 12/29\n",
      "12 Train Loss: 0.0001 Train Acc: 0.9689\n",
      "12 Train Loss: 0.0003 Train Acc: 0.9212\n",
      "Epoch 13/29\n",
      "13 Train Loss: 0.0000 Train Acc: 0.9707\n",
      "13 Train Loss: 0.0000 Train Acc: 0.9688\n",
      "Epoch 14/29\n",
      "14 Train Loss: 0.0001 Train Acc: 0.9718\n",
      "14 Train Loss: 0.0001 Train Acc: 0.9601\n",
      "Epoch 15/29\n",
      "15 Train Loss: 0.0003 Train Acc: 0.9738\n",
      "15 Train Loss: 0.0001 Train Acc: 0.9563\n",
      "Epoch 16/29\n",
      "16 Train Loss: 0.0000 Train Acc: 0.9747\n",
      "16 Train Loss: 0.0000 Train Acc: 0.9632\n",
      "Epoch 17/29\n",
      "17 Train Loss: 0.0001 Train Acc: 0.9755\n",
      "17 Train Loss: 0.0000 Train Acc: 0.9737\n",
      "Epoch 18/29\n",
      "18 Train Loss: 0.0000 Train Acc: 0.9772\n",
      "18 Train Loss: 0.0001 Train Acc: 0.9762\n",
      "Epoch 19/29\n",
      "19 Train Loss: 0.0001 Train Acc: 0.9776\n",
      "19 Train Loss: 0.0000 Train Acc: 0.9722\n",
      "Epoch 20/29\n",
      "20 Train Loss: 0.0000 Train Acc: 0.9790\n",
      "20 Train Loss: 0.0000 Train Acc: 0.9745\n",
      "Epoch 21/29\n",
      "21 Train Loss: 0.0000 Train Acc: 0.9796\n",
      "21 Train Loss: 0.0003 Train Acc: 0.9733\n",
      "Epoch 22/29\n",
      "22 Train Loss: 0.0000 Train Acc: 0.9808\n",
      "22 Train Loss: 0.0002 Train Acc: 0.9764\n",
      "Epoch 23/29\n",
      "23 Train Loss: 0.0002 Train Acc: 0.9807\n",
      "23 Train Loss: 0.0009 Train Acc: 0.9771\n",
      "Epoch 24/29\n",
      "24 Train Loss: 0.0000 Train Acc: 0.9824\n",
      "24 Train Loss: 0.0003 Train Acc: 0.9612\n",
      "Epoch 25/29\n",
      "25 Train Loss: 0.0000 Train Acc: 0.9822\n",
      "25 Train Loss: 0.0000 Train Acc: 0.9793\n",
      "Epoch 26/29\n",
      "26 Train Loss: 0.0000 Train Acc: 0.9836\n",
      "26 Train Loss: 0.0000 Train Acc: 0.9771\n",
      "Epoch 27/29\n",
      "27 Train Loss: 0.0001 Train Acc: 0.9831\n",
      "27 Train Loss: 0.0000 Train Acc: 0.9573\n",
      "Epoch 28/29\n",
      "28 Train Loss: 0.0000 Train Acc: 0.9840\n",
      "28 Train Loss: 0.0000 Train Acc: 0.9780\n",
      "Epoch 29/29\n",
      "29 Train Loss: 0.0000 Train Acc: 0.9842\n",
      "29 Train Loss: 0.0000 Train Acc: 0.9791\n"
     ]
    }
   ],
   "source": [
    "# 对模型进行训练\n",
    "optimizer = torch.optim.RMSprop(MyRNNimc.parameters(), lr = 0.0003)\n",
    "criterion = nn.CrossEntropyLoss() # 损失函数\n",
    "train_loss_all = []\n",
    "train_acc_all = []\n",
    "test_loss_all = []\n",
    "test_acc_all = []\n",
    "num_epochs = 30\n",
    "for epoch in range( num_epochs):\n",
    "    print(\"Epoch {}/{}\".format(epoch,num_epochs-1))\n",
    "    MyRNNimc.train() # 设置模型为训练模式\n",
    "    corrects = 0\n",
    "    train_num = 0\n",
    "    for step,(b_x,b_y) in enumerate( train_loader ):\n",
    "        # input : [batch, time_step, input_dim ]\n",
    "        xdata = b_x.view(-1,28,28)\n",
    "        output = MyRNNimc( xdata )\n",
    "        pre_lab = torch.argmax( output,1)\n",
    "        loss = criterion(output, b_y)\n",
    "        optimizer.zero_grad()\n",
    "        loss.backward()\n",
    "        optimizer.step()\n",
    "        loss += loss.item() * b_x.size(0)\n",
    "        corrects += torch.sum( pre_lab == b_y.data )\n",
    "        train_num += b_x.size(0)\n",
    "    # 计算经过一个epoch的训练后在训练集上的损失和精度\n",
    "    train_loss_all.append(loss/train_num)\n",
    "    train_acc_all.append(corrects.double().item() / train_num )\n",
    "    print(\"{} Train Loss: {:.4f} Train Acc: {:.4f}\".format(epoch, train_loss_all[-1],train_acc_all[-1]))\n",
    "    # 设置模型为验证模式\n",
    "    MyRNNimc.eval()\n",
    "    corrects = 0\n",
    "    test_num = 0\n",
    "    for step,(b_x,b_y) in enumerate( test_loader ):\n",
    "        # input : [batch, time_step, input_dim ]\n",
    "        xdata = b_x.view(-1,28,28)\n",
    "        output = MyRNNimc( xdata )\n",
    "        pre_lab = torch.argmax( output,1)\n",
    "        loss = criterion(output, b_y)\n",
    "        loss += loss.item() * b_x.size(0)\n",
    "        corrects += torch.sum( pre_lab == b_y.data )\n",
    "        test_num += b_x.size(0)\n",
    "    # 计算经过一个epoch的训练后在测试集上的损失和精度\n",
    "    test_loss_all.append(loss/test_num)\n",
    "    test_acc_all.append(corrects.double().item() / test_num )\n",
    "    print(\"{} Train Loss: {:.4f} Train Acc: {:.4f}\".format(epoch, test_loss_all[-1],test_acc_all[-1]))\n",
    "    "
   ]
  },
  {
   "cell_type": "code",
   "execution_count": 25,
   "id": "48d65e08-8634-422b-860a-26f48fad5ca2",
   "metadata": {},
   "outputs": [
    {
     "data": {
      "image/png": "[encoded data removed]",
      "text/plain": [
       "<Figure size 1400x500 with 2 Axes>"
      ]
     },
     "metadata": {},
     "output_type": "display_data"
    }
   ],
   "source": [
    "# 可视化模型训练过程\n",
    "plt.figure(figsize=(14,5))\n",
    "plt.subplot(1,2,1)\n",
    "# for i in range(len(train_loss_all)):\n",
    "#     train_loss_all[i] = train_loss_all[i].double().item()\n",
    "# for i in range(len(test_loss_all)):\n",
    "#     test_loss_all[i] = test_loss_all[i].double().item()\n",
    "plt.plot(train_loss_all,\"ro-\",label=\"Train loss\")\n",
    "plt.plot(test_loss_all,\"bs-\",label=\"Val loss\")\n",
    "plt.legend()\n",
    "plt.xlabel(\"epoch\")\n",
    "plt.ylabel(\"Loss\")\n",
    "plt.subplot(1,2,2)\n",
    "plt.plot(train_acc_all,\"ro-\",label=\"Train acc\")\n",
    "plt.plot(test_acc_all,\"bs-\",label=\"Val acc\")\n",
    "plt.xlabel(\"epoch\")\n",
    "plt.ylabel(\"acc\")\n",
    "plt.legend()\n",
    "plt.show()"
   ]
  },
  {
   "cell_type": "code",
   "execution_count": null,
   "id": "af567b11-0d2a-43c1-ad51-1e7242d850b8",
   "metadata": {},
   "outputs": [],
   "source": []
  }
 ],
 "metadata": {
  "kernelspec": {
   "display_name": "Python 3 (ipykernel)",
   "language": "python",
   "name": "python3"
  },
  "language_info": {
   "codemirror_mode": {
    "name": "ipython",
    "version": 3
   },
   "file_extension": ".py",
   "mimetype": "text/x-python",
   "name": "python",
   "nbconvert_exporter": "python",
   "pygments_lexer": "ipython3",
   "version": "3.10.10"
  }
 },
 "nbformat": 4,
 "nbformat_minor": 5
}
